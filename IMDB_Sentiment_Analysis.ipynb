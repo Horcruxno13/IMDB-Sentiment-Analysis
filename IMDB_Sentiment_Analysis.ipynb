{
  "nbformat": 4,
  "nbformat_minor": 0,
  "metadata": {
    "colab": {
      "provenance": [],
      "authorship_tag": "ABX9TyODNnpN9sMrVEkGqdYMPKMM",
      "include_colab_link": true
    },
    "kernelspec": {
      "name": "python3",
      "display_name": "Python 3"
    },
    "language_info": {
      "name": "python"
    },
    "accelerator": "GPU",
    "gpuClass": "standard"
  },
  "cells": [
    {
      "cell_type": "markdown",
      "metadata": {
        "id": "view-in-github",
        "colab_type": "text"
      },
      "source": [
        "<a href=\"https://colab.research.google.com/github/Horcruxno13/IMDB-Sentiment-Analysis/blob/main/IMDB_Sentiment_Analysis.ipynb\" target=\"_parent\"><img src=\"https://colab.research.google.com/assets/colab-badge.svg\" alt=\"Open In Colab\"/></a>"
      ]
    },
    {
      "cell_type": "markdown",
      "source": [
        "# IMDB Reviews Sentiment Analysis\n",
        "## Introduction\n",
        "Sentiment analysis, a subfield of Natural Language Processing (NLP), is the task of determining the emotional tone behind a piece of text. In recent years, sentiment analysis has gained tremendous popularity as it enables businesses to understand their customers' opinions and reactions towards their products and services. In this project, we aim to perform sentiment analysis on IMDb reviews, a popular online database of movies and TV shows. The dataset was obtained from Kaggle. We will use Long Short Term Memory (LSTM) for our neural network and NLP techniques to classify the reviews into positive or negative categories."
      ],
      "metadata": {
        "id": "CvG2Q8MRuucW"
      }
    },
    {
      "cell_type": "markdown",
      "source": [
        "## 1. Exploratory Data Analysis\n",
        "### 1.1 Importing the necessary libraries|"
      ],
      "metadata": {
        "id": "07CLZjTHwCXB"
      }
    },
    {
      "cell_type": "code",
      "execution_count": 1,
      "metadata": {
        "colab": {
          "base_uri": "https://localhost:8080/"
        },
        "id": "_o_UhmtNV5Vt",
        "outputId": "49a39953-c38f-4693-e484-25ede7630ed6"
      },
      "outputs": [
        {
          "output_type": "stream",
          "name": "stderr",
          "text": [
            "[nltk_data] Downloading package punkt to /root/nltk_data...\n",
            "[nltk_data]   Unzipping tokenizers/punkt.zip.\n",
            "[nltk_data] Downloading package stopwords to /root/nltk_data...\n",
            "[nltk_data]   Unzipping corpora/stopwords.zip.\n",
            "[nltk_data] Downloading package wordnet to /root/nltk_data...\n",
            "[nltk_data] Downloading package omw-1.4 to /root/nltk_data...\n"
          ]
        }
      ],
      "source": [
        "import pandas as pd\n",
        "import numpy as np\n",
        "import matplotlib.pyplot as plt\n",
        "import seaborn as sns\n",
        "\n",
        "import re\n",
        "import nltk\n",
        "from nltk.tokenize import word_tokenize, sent_tokenize, punkt\n",
        "from nltk.corpus import stopwords\n",
        "from nltk.stem.wordnet import WordNetLemmatizer\n",
        "\n",
        "nltk.download('punkt')\n",
        "nltk.download('stopwords')\n",
        "nltk.download('wordnet')\n",
        "nltk.download('omw-1.4')\n",
        "\n",
        "stopwords = set(stopwords.words('english'))"
      ]
    },
    {
      "cell_type": "code",
      "source": [
        "from google.colab import drive\n",
        "drive.mount('/content/drive')"
      ],
      "metadata": {
        "colab": {
          "base_uri": "https://localhost:8080/"
        },
        "id": "Qip9nj7Cds4x",
        "outputId": "54bf405f-37fc-4a4f-fffe-d0e834ea73cd"
      },
      "execution_count": 2,
      "outputs": [
        {
          "output_type": "stream",
          "name": "stdout",
          "text": [
            "Mounted at /content/drive\n"
          ]
        }
      ]
    },
    {
      "cell_type": "code",
      "source": [
        "data = pd.read_csv('/content/drive/My Drive/Datasets/IMDB Dataset.csv')\n",
        "data.head()"
      ],
      "metadata": {
        "colab": {
          "base_uri": "https://localhost:8080/",
          "height": 206
        },
        "id": "qHcD2FGDWLhh",
        "outputId": "195bc2d8-f0c2-4c12-d01f-d733cab1db6d"
      },
      "execution_count": 3,
      "outputs": [
        {
          "output_type": "execute_result",
          "data": {
            "text/plain": [
              "                                              review sentiment\n",
              "0  One of the other reviewers has mentioned that ...  positive\n",
              "1  A wonderful little production. <br /><br />The...  positive\n",
              "2  I thought this was a wonderful way to spend ti...  positive\n",
              "3  Basically there's a family where a little boy ...  negative\n",
              "4  Petter Mattei's \"Love in the Time of Money\" is...  positive"
            ],
            "text/html": [
              "\n",
              "  <div id=\"df-a69b9497-bc63-4d95-88de-863b7a13e22a\">\n",
              "    <div class=\"colab-df-container\">\n",
              "      <div>\n",
              "<style scoped>\n",
              "    .dataframe tbody tr th:only-of-type {\n",
              "        vertical-align: middle;\n",
              "    }\n",
              "\n",
              "    .dataframe tbody tr th {\n",
              "        vertical-align: top;\n",
              "    }\n",
              "\n",
              "    .dataframe thead th {\n",
              "        text-align: right;\n",
              "    }\n",
              "</style>\n",
              "<table border=\"1\" class=\"dataframe\">\n",
              "  <thead>\n",
              "    <tr style=\"text-align: right;\">\n",
              "      <th></th>\n",
              "      <th>review</th>\n",
              "      <th>sentiment</th>\n",
              "    </tr>\n",
              "  </thead>\n",
              "  <tbody>\n",
              "    <tr>\n",
              "      <th>0</th>\n",
              "      <td>One of the other reviewers has mentioned that ...</td>\n",
              "      <td>positive</td>\n",
              "    </tr>\n",
              "    <tr>\n",
              "      <th>1</th>\n",
              "      <td>A wonderful little production. &lt;br /&gt;&lt;br /&gt;The...</td>\n",
              "      <td>positive</td>\n",
              "    </tr>\n",
              "    <tr>\n",
              "      <th>2</th>\n",
              "      <td>I thought this was a wonderful way to spend ti...</td>\n",
              "      <td>positive</td>\n",
              "    </tr>\n",
              "    <tr>\n",
              "      <th>3</th>\n",
              "      <td>Basically there's a family where a little boy ...</td>\n",
              "      <td>negative</td>\n",
              "    </tr>\n",
              "    <tr>\n",
              "      <th>4</th>\n",
              "      <td>Petter Mattei's \"Love in the Time of Money\" is...</td>\n",
              "      <td>positive</td>\n",
              "    </tr>\n",
              "  </tbody>\n",
              "</table>\n",
              "</div>\n",
              "      <button class=\"colab-df-convert\" onclick=\"convertToInteractive('df-a69b9497-bc63-4d95-88de-863b7a13e22a')\"\n",
              "              title=\"Convert this dataframe to an interactive table.\"\n",
              "              style=\"display:none;\">\n",
              "        \n",
              "  <svg xmlns=\"http://www.w3.org/2000/svg\" height=\"24px\"viewBox=\"0 0 24 24\"\n",
              "       width=\"24px\">\n",
              "    <path d=\"M0 0h24v24H0V0z\" fill=\"none\"/>\n",
              "    <path d=\"M18.56 5.44l.94 2.06.94-2.06 2.06-.94-2.06-.94-.94-2.06-.94 2.06-2.06.94zm-11 1L8.5 8.5l.94-2.06 2.06-.94-2.06-.94L8.5 2.5l-.94 2.06-2.06.94zm10 10l.94 2.06.94-2.06 2.06-.94-2.06-.94-.94-2.06-.94 2.06-2.06.94z\"/><path d=\"M17.41 7.96l-1.37-1.37c-.4-.4-.92-.59-1.43-.59-.52 0-1.04.2-1.43.59L10.3 9.45l-7.72 7.72c-.78.78-.78 2.05 0 2.83L4 21.41c.39.39.9.59 1.41.59.51 0 1.02-.2 1.41-.59l7.78-7.78 2.81-2.81c.8-.78.8-2.07 0-2.86zM5.41 20L4 18.59l7.72-7.72 1.47 1.35L5.41 20z\"/>\n",
              "  </svg>\n",
              "      </button>\n",
              "      \n",
              "  <style>\n",
              "    .colab-df-container {\n",
              "      display:flex;\n",
              "      flex-wrap:wrap;\n",
              "      gap: 12px;\n",
              "    }\n",
              "\n",
              "    .colab-df-convert {\n",
              "      background-color: #E8F0FE;\n",
              "      border: none;\n",
              "      border-radius: 50%;\n",
              "      cursor: pointer;\n",
              "      display: none;\n",
              "      fill: #1967D2;\n",
              "      height: 32px;\n",
              "      padding: 0 0 0 0;\n",
              "      width: 32px;\n",
              "    }\n",
              "\n",
              "    .colab-df-convert:hover {\n",
              "      background-color: #E2EBFA;\n",
              "      box-shadow: 0px 1px 2px rgba(60, 64, 67, 0.3), 0px 1px 3px 1px rgba(60, 64, 67, 0.15);\n",
              "      fill: #174EA6;\n",
              "    }\n",
              "\n",
              "    [theme=dark] .colab-df-convert {\n",
              "      background-color: #3B4455;\n",
              "      fill: #D2E3FC;\n",
              "    }\n",
              "\n",
              "    [theme=dark] .colab-df-convert:hover {\n",
              "      background-color: #434B5C;\n",
              "      box-shadow: 0px 1px 3px 1px rgba(0, 0, 0, 0.15);\n",
              "      filter: drop-shadow(0px 1px 2px rgba(0, 0, 0, 0.3));\n",
              "      fill: #FFFFFF;\n",
              "    }\n",
              "  </style>\n",
              "\n",
              "      <script>\n",
              "        const buttonEl =\n",
              "          document.querySelector('#df-a69b9497-bc63-4d95-88de-863b7a13e22a button.colab-df-convert');\n",
              "        buttonEl.style.display =\n",
              "          google.colab.kernel.accessAllowed ? 'block' : 'none';\n",
              "\n",
              "        async function convertToInteractive(key) {\n",
              "          const element = document.querySelector('#df-a69b9497-bc63-4d95-88de-863b7a13e22a');\n",
              "          const dataTable =\n",
              "            await google.colab.kernel.invokeFunction('convertToInteractive',\n",
              "                                                     [key], {});\n",
              "          if (!dataTable) return;\n",
              "\n",
              "          const docLinkHtml = 'Like what you see? Visit the ' +\n",
              "            '<a target=\"_blank\" href=https://colab.research.google.com/notebooks/data_table.ipynb>data table notebook</a>'\n",
              "            + ' to learn more about interactive tables.';\n",
              "          element.innerHTML = '';\n",
              "          dataTable['output_type'] = 'display_data';\n",
              "          await google.colab.output.renderOutput(dataTable, element);\n",
              "          const docLink = document.createElement('div');\n",
              "          docLink.innerHTML = docLinkHtml;\n",
              "          element.appendChild(docLink);\n",
              "        }\n",
              "      </script>\n",
              "    </div>\n",
              "  </div>\n",
              "  "
            ]
          },
          "metadata": {},
          "execution_count": 3
        }
      ]
    },
    {
      "cell_type": "markdown",
      "source": [
        "### 1.2 Transforming the sentiment value to numbers "
      ],
      "metadata": {
        "id": "OsCZ9iFZwLoL"
      }
    },
    {
      "cell_type": "code",
      "source": [
        "data['sentiment'] = data['sentiment'].apply(lambda x: 1 if x == 'positive' else 0)"
      ],
      "metadata": {
        "id": "EnOqfcf1fqLo"
      },
      "execution_count": 4,
      "outputs": []
    },
    {
      "cell_type": "code",
      "source": [
        "data['token_length'] = data['review'].apply(lambda x: len(x.split()))"
      ],
      "metadata": {
        "id": "iZROWAegg0p-"
      },
      "execution_count": 5,
      "outputs": []
    },
    {
      "cell_type": "code",
      "source": [
        "data_pos = data[data['sentiment'] == 1]\n",
        "data_neg = data[data['sentiment'] == 0]"
      ],
      "metadata": {
        "id": "uHi75l6lg2g6"
      },
      "execution_count": 6,
      "outputs": []
    },
    {
      "cell_type": "markdown",
      "source": [
        "### 1.3 Plotting the length of the reviews based on sentiment"
      ],
      "metadata": {
        "id": "pD2WT9cnwdiS"
      }
    },
    {
      "cell_type": "code",
      "source": [
        "plt.figure(figsize=(5, 8))\n",
        "sns.displot(data_pos, x='token_length')\n",
        "plt.title('Positive Token Length Distribution')\n",
        "plt.show()"
      ],
      "metadata": {
        "colab": {
          "base_uri": "https://localhost:8080/",
          "height": 402
        },
        "id": "ICiDyolkg4Vq",
        "outputId": "567aa85b-54d1-4790-d3b3-1282b0c1e025"
      },
      "execution_count": 7,
      "outputs": [
        {
          "output_type": "display_data",
          "data": {
            "text/plain": [
              "<Figure size 360x576 with 0 Axes>"
            ]
          },
          "metadata": {}
        },
        {
          "output_type": "display_data",
          "data": {
            "text/plain": [
              "<Figure size 360x360 with 1 Axes>"
            ],
            "image/png": "[encoded data removed]"
          },
          "metadata": {
            "needs_background": "light"
          }
        }
      ]
    },
    {
      "cell_type": "code",
      "source": [
        "plt.figure(figsize=(5, 8))\n",
        "sns.displot(data_pos, x='token_length')\n",
        "plt.title('Negative Token Length Distribution')\n",
        "plt.show()"
      ],
      "metadata": {
        "colab": {
          "base_uri": "https://localhost:8080/",
          "height": 402
        },
        "id": "DYzG97fUg6ZS",
        "outputId": "16e4d9a9-a9bb-49f2-8df9-4d44ad1f6257"
      },
      "execution_count": 8,
      "outputs": [
        {
          "output_type": "display_data",
          "data": {
            "text/plain": [
              "<Figure size 360x576 with 0 Axes>"
            ]
          },
          "metadata": {}
        },
        {
          "output_type": "display_data",
          "data": {
            "text/plain": [
              "<Figure size 360x360 with 1 Axes>"
            ],
            "image/png": "[encoded data removed]"
          },
          "metadata": {
            "needs_background": "light"
          }
        }
      ]
    },
    {
      "cell_type": "markdown",
      "source": [
        "## 2. Cleaning and Preprocessing Pipeline\n",
        "### 2.1 Removing links, punctuation, numbers, emojis, etc."
      ],
      "metadata": {
        "id": "JftUKPV-wljn"
      }
    },
    {
      "cell_type": "code",
      "source": [
        "def rm_link(text):\n",
        "    return re.sub(r'https?://\\S+|www\\.\\S+', '', text)\n",
        "\n",
        "def rm_punct2(text):\n",
        "    return re.sub(r'[\\\"\\#\\$\\%\\&\\'\\(\\)\\*\\+\\/\\:\\;\\<\\=\\>\\@\\[\\\\\\]\\^\\_\\`\\{\\|\\}\\~]', ' ', text)\n",
        "\n",
        "def rm_html(text):\n",
        "    return re.sub(r'<[^>]+>', '', text)\n",
        "\n",
        "def space_bt_punct(text):\n",
        "    pattern = r'([.,!?-])'\n",
        "    s = re.sub(pattern, r' \\1 ', text)\n",
        "    s = re.sub(r'\\s{2,}', ' ', s)    \n",
        "    return s\n",
        "\n",
        "def rm_number(text):\n",
        "    return re.sub(r'\\d+', '', text)\n",
        "\n",
        "def rm_whitespaces(text):\n",
        "    return re.sub(r' +', ' ', text)\n",
        "\n",
        "def rm_nonascii(text):\n",
        "    return re.sub(r'[^\\x00-\\x7f]', r'', text)\n",
        "\n",
        "def rm_emoji(text):\n",
        "    emojis = re.compile(\n",
        "        '['\n",
        "        u'\\U0001F600-\\U0001F64F'\n",
        "        u'\\U0001F300-\\U0001F5FF'\n",
        "        u'\\U0001F680-\\U0001F6FF'\n",
        "        u'\\U0001F1E0-\\U0001F1FF'\n",
        "        u'\\U00002702-\\U000027B0'\n",
        "        u'\\U000024C2-\\U0001F251'\n",
        "        ']+',\n",
        "        flags=re.UNICODE\n",
        "    )\n",
        "    return emojis.sub(r'', text)\n",
        "\n",
        "def spell_correction(text):\n",
        "    return re.sub(r'(.)\\1+', r'\\1\\1', text)"
      ],
      "metadata": {
        "id": "U2YfCv-6g8hR"
      },
      "execution_count": 9,
      "outputs": []
    },
    {
      "cell_type": "code",
      "source": [
        "def clean_pipeline(text):    \n",
        "    no_link = rm_link(text)\n",
        "    no_html = rm_html(no_link)\n",
        "    space_punct = space_bt_punct(no_html)\n",
        "    no_punct = rm_punct2(space_punct)\n",
        "    no_number = rm_number(no_punct)\n",
        "    no_whitespaces = rm_whitespaces(no_number)\n",
        "    no_nonasci = rm_nonascii(no_whitespaces)\n",
        "    no_emoji = rm_emoji(no_nonasci)\n",
        "    spell_corrected = spell_correction(no_emoji)\n",
        "    return spell_corrected"
      ],
      "metadata": {
        "id": "dTru2E0bg_Sj"
      },
      "execution_count": 10,
      "outputs": []
    },
    {
      "cell_type": "markdown",
      "source": [
        "### 2.2 Tokenisation, stopwords and lemmatisation"
      ],
      "metadata": {
        "id": "UqyTey65y3Fc"
      }
    },
    {
      "cell_type": "code",
      "source": [
        "def tokenize(text):\n",
        "    return word_tokenize(text)\n",
        "\n",
        "def rm_stopwords(text):\n",
        "    return [i for i in text if i not in stopwords]\n",
        "\n",
        "def lemmatize(text):\n",
        "    lemmatizer = WordNetLemmatizer()    \n",
        "    lemmas = [lemmatizer.lemmatize(t) for t in text]\n",
        "    return rm_stopwords(lemmas)"
      ],
      "metadata": {
        "id": "68mS99IQhBmR"
      },
      "execution_count": 11,
      "outputs": []
    },
    {
      "cell_type": "code",
      "source": [
        "def preprocess_pipeline(text):\n",
        "    tokens = tokenize(text)\n",
        "    no_stopwords = rm_stopwords(tokens)\n",
        "    lemmas = lemmatize(no_stopwords)\n",
        "    return ' '.join(lemmas)"
      ],
      "metadata": {
        "id": "fGi0ApCjhERn"
      },
      "execution_count": 12,
      "outputs": []
    },
    {
      "cell_type": "code",
      "source": [
        "data['review'] = data['review'].apply(clean_pipeline)\n",
        "data['review'] = data['review'].apply(preprocess_pipeline)"
      ],
      "metadata": {
        "id": "vOV5vYENhIZN"
      },
      "execution_count": 13,
      "outputs": []
    },
    {
      "cell_type": "code",
      "source": [
        "data.head()"
      ],
      "metadata": {
        "colab": {
          "base_uri": "https://localhost:8080/",
          "height": 206
        },
        "id": "bwxvYdLGiavB",
        "outputId": "6c1f7f87-c441-4fda-c180-6ce0784d59db"
      },
      "execution_count": 14,
      "outputs": [
        {
          "output_type": "execute_result",
          "data": {
            "text/plain": [
              "                                              review  sentiment  token_length\n",
              "0  One reviewer mentioned watching Oz episode hoo...          1           307\n",
              "1  A wonderful little production . The filming te...          1           162\n",
              "2  I thought wonderful way spend time hot summer ...          1           166\n",
              "3  Basically family little boy Jake think zombie ...          0           138\n",
              "4  Petter Mattei Love Time Money visually stunnin...          1           230"
            ],
            "text/html": [
              "\n",
              "  <div id=\"df-03f8c11d-3cb6-47ed-a93b-45249c49f10f\">\n",
              "    <div class=\"colab-df-container\">\n",
              "      <div>\n",
              "<style scoped>\n",
              "    .dataframe tbody tr th:only-of-type {\n",
              "        vertical-align: middle;\n",
              "    }\n",
              "\n",
              "    .dataframe tbody tr th {\n",
              "        vertical-align: top;\n",
              "    }\n",
              "\n",
              "    .dataframe thead th {\n",
              "        text-align: right;\n",
              "    }\n",
              "</style>\n",
              "<table border=\"1\" class=\"dataframe\">\n",
              "  <thead>\n",
              "    <tr style=\"text-align: right;\">\n",
              "      <th></th>\n",
              "      <th>review</th>\n",
              "      <th>sentiment</th>\n",
              "      <th>token_length</th>\n",
              "    </tr>\n",
              "  </thead>\n",
              "  <tbody>\n",
              "    <tr>\n",
              "      <th>0</th>\n",
              "      <td>One reviewer mentioned watching Oz episode hoo...</td>\n",
              "      <td>1</td>\n",
              "      <td>307</td>\n",
              "    </tr>\n",
              "    <tr>\n",
              "      <th>1</th>\n",
              "      <td>A wonderful little production . The filming te...</td>\n",
              "      <td>1</td>\n",
              "      <td>162</td>\n",
              "    </tr>\n",
              "    <tr>\n",
              "      <th>2</th>\n",
              "      <td>I thought wonderful way spend time hot summer ...</td>\n",
              "      <td>1</td>\n",
              "      <td>166</td>\n",
              "    </tr>\n",
              "    <tr>\n",
              "      <th>3</th>\n",
              "      <td>Basically family little boy Jake think zombie ...</td>\n",
              "      <td>0</td>\n",
              "      <td>138</td>\n",
              "    </tr>\n",
              "    <tr>\n",
              "      <th>4</th>\n",
              "      <td>Petter Mattei Love Time Money visually stunnin...</td>\n",
              "      <td>1</td>\n",
              "      <td>230</td>\n",
              "    </tr>\n",
              "  </tbody>\n",
              "</table>\n",
              "</div>\n",
              "      <button class=\"colab-df-convert\" onclick=\"convertToInteractive('df-03f8c11d-3cb6-47ed-a93b-45249c49f10f')\"\n",
              "              title=\"Convert this dataframe to an interactive table.\"\n",
              "              style=\"display:none;\">\n",
              "        \n",
              "  <svg xmlns=\"http://www.w3.org/2000/svg\" height=\"24px\"viewBox=\"0 0 24 24\"\n",
              "       width=\"24px\">\n",
              "    <path d=\"M0 0h24v24H0V0z\" fill=\"none\"/>\n",
              "    <path d=\"M18.56 5.44l.94 2.06.94-2.06 2.06-.94-2.06-.94-.94-2.06-.94 2.06-2.06.94zm-11 1L8.5 8.5l.94-2.06 2.06-.94-2.06-.94L8.5 2.5l-.94 2.06-2.06.94zm10 10l.94 2.06.94-2.06 2.06-.94-2.06-.94-.94-2.06-.94 2.06-2.06.94z\"/><path d=\"M17.41 7.96l-1.37-1.37c-.4-.4-.92-.59-1.43-.59-.52 0-1.04.2-1.43.59L10.3 9.45l-7.72 7.72c-.78.78-.78 2.05 0 2.83L4 21.41c.39.39.9.59 1.41.59.51 0 1.02-.2 1.41-.59l7.78-7.78 2.81-2.81c.8-.78.8-2.07 0-2.86zM5.41 20L4 18.59l7.72-7.72 1.47 1.35L5.41 20z\"/>\n",
              "  </svg>\n",
              "      </button>\n",
              "      \n",
              "  <style>\n",
              "    .colab-df-container {\n",
              "      display:flex;\n",
              "      flex-wrap:wrap;\n",
              "      gap: 12px;\n",
              "    }\n",
              "\n",
              "    .colab-df-convert {\n",
              "      background-color: #E8F0FE;\n",
              "      border: none;\n",
              "      border-radius: 50%;\n",
              "      cursor: pointer;\n",
              "      display: none;\n",
              "      fill: #1967D2;\n",
              "      height: 32px;\n",
              "      padding: 0 0 0 0;\n",
              "      width: 32px;\n",
              "    }\n",
              "\n",
              "    .colab-df-convert:hover {\n",
              "      background-color: #E2EBFA;\n",
              "      box-shadow: 0px 1px 2px rgba(60, 64, 67, 0.3), 0px 1px 3px 1px rgba(60, 64, 67, 0.15);\n",
              "      fill: #174EA6;\n",
              "    }\n",
              "\n",
              "    [theme=dark] .colab-df-convert {\n",
              "      background-color: #3B4455;\n",
              "      fill: #D2E3FC;\n",
              "    }\n",
              "\n",
              "    [theme=dark] .colab-df-convert:hover {\n",
              "      background-color: #434B5C;\n",
              "      box-shadow: 0px 1px 3px 1px rgba(0, 0, 0, 0.15);\n",
              "      filter: drop-shadow(0px 1px 2px rgba(0, 0, 0, 0.3));\n",
              "      fill: #FFFFFF;\n",
              "    }\n",
              "  </style>\n",
              "\n",
              "      <script>\n",
              "        const buttonEl =\n",
              "          document.querySelector('#df-03f8c11d-3cb6-47ed-a93b-45249c49f10f button.colab-df-convert');\n",
              "        buttonEl.style.display =\n",
              "          google.colab.kernel.accessAllowed ? 'block' : 'none';\n",
              "\n",
              "        async function convertToInteractive(key) {\n",
              "          const element = document.querySelector('#df-03f8c11d-3cb6-47ed-a93b-45249c49f10f');\n",
              "          const dataTable =\n",
              "            await google.colab.kernel.invokeFunction('convertToInteractive',\n",
              "                                                     [key], {});\n",
              "          if (!dataTable) return;\n",
              "\n",
              "          const docLinkHtml = 'Like what you see? Visit the ' +\n",
              "            '<a target=\"_blank\" href=https://colab.research.google.com/notebooks/data_table.ipynb>data table notebook</a>'\n",
              "            + ' to learn more about interactive tables.';\n",
              "          element.innerHTML = '';\n",
              "          dataTable['output_type'] = 'display_data';\n",
              "          await google.colab.output.renderOutput(dataTable, element);\n",
              "          const docLink = document.createElement('div');\n",
              "          docLink.innerHTML = docLinkHtml;\n",
              "          element.appendChild(docLink);\n",
              "        }\n",
              "      </script>\n",
              "    </div>\n",
              "  </div>\n",
              "  "
            ]
          },
          "metadata": {},
          "execution_count": 14
        }
      ]
    },
    {
      "cell_type": "markdown",
      "source": [
        "## 3. Preparing data for modelling\n",
        "### 3.1 Building a vocabulary"
      ],
      "metadata": {
        "id": "8uGbjYkRzJwE"
      }
    },
    {
      "cell_type": "code",
      "source": [
        "reviews = data['review'].values"
      ],
      "metadata": {
        "id": "b9mmFTImjb-s"
      },
      "execution_count": 15,
      "outputs": []
    },
    {
      "cell_type": "code",
      "source": [
        "words = ' '.join(reviews)\n",
        "words = words.split()"
      ],
      "metadata": {
        "id": "abgFl199jesO"
      },
      "execution_count": 16,
      "outputs": []
    },
    {
      "cell_type": "code",
      "source": [
        "len(words)"
      ],
      "metadata": {
        "colab": {
          "base_uri": "https://localhost:8080/"
        },
        "id": "jet7nKlJjg1F",
        "outputId": "79630d16-3dc9-469c-afe4-a5e6c249213f"
      },
      "execution_count": 17,
      "outputs": [
        {
          "output_type": "execute_result",
          "data": {
            "text/plain": [
              "7888384"
            ]
          },
          "metadata": {},
          "execution_count": 17
        }
      ]
    },
    {
      "cell_type": "code",
      "source": [
        "from collections import Counter\n",
        "counter = Counter(words)\n",
        "vocab = sorted(counter, key=counter.get, reverse=True)\n",
        "int2word = dict(enumerate(vocab, 1))\n",
        "int2word[0] = '<PAD>'\n",
        "word2int = {word: id for id, word in int2word.items()}"
      ],
      "metadata": {
        "id": "58za9UiYji6L"
      },
      "execution_count": 18,
      "outputs": []
    },
    {
      "cell_type": "code",
      "source": [
        "len(word2int)"
      ],
      "metadata": {
        "colab": {
          "base_uri": "https://localhost:8080/"
        },
        "id": "Ck7dbwjUjlCP",
        "outputId": "ccbb9864-a163-4e79-b3c3-bf935054b14e"
      },
      "execution_count": 19,
      "outputs": [
        {
          "output_type": "execute_result",
          "data": {
            "text/plain": [
              "121301"
            ]
          },
          "metadata": {},
          "execution_count": 19
        }
      ]
    },
    {
      "cell_type": "code",
      "source": [
        "reviews_enc = [[word2int[word] for word in review.split()] for review in reviews]"
      ],
      "metadata": {
        "id": "dTKzcBxMjnJV"
      },
      "execution_count": 20,
      "outputs": []
    },
    {
      "cell_type": "markdown",
      "source": [
        "### 3.2 Creating sequences of the same length by padding"
      ],
      "metadata": {
        "id": "MeRS_es70GLx"
      }
    },
    {
      "cell_type": "code",
      "source": [
        "def pad_features(reviews, pad_id, seq_length=128):\n",
        "    features = np.full((len(reviews), seq_length), pad_id, dtype=int)\n",
        "    for i, row in enumerate(reviews):\n",
        "        features[i, :len(row)] = np.array(row)[:seq_length]\n",
        "    return features\n",
        "\n",
        "seq_length = 256\n",
        "features = pad_features(reviews_enc, pad_id=word2int['<PAD>'], seq_length=seq_length)"
      ],
      "metadata": {
        "id": "xMD7Reh5jpl_"
      },
      "execution_count": 21,
      "outputs": []
    },
    {
      "cell_type": "code",
      "source": [
        "labels = data['sentiment'].to_numpy()"
      ],
      "metadata": {
        "id": "bxHJCXK-jtyQ"
      },
      "execution_count": 22,
      "outputs": []
    },
    {
      "cell_type": "markdown",
      "source": [
        "## 4. Training and testing the model\n",
        "### 4.1 Creating training, validation and testing set"
      ],
      "metadata": {
        "id": "L7RhxXwa0K45"
      }
    },
    {
      "cell_type": "code",
      "source": [
        "train_size = .7     \n",
        "val_size = .5\n",
        "\n",
        "split_id = int(len(features) * train_size)\n",
        "train_x, remain_x = features[:split_id], features[split_id:]\n",
        "train_y, remain_y = labels[:split_id], labels[split_id:]\n",
        "\n",
        "split_val_id = int(len(remain_x) * val_size)\n",
        "val_x, test_x = remain_x[:split_val_id], remain_x[split_val_id:]\n",
        "val_y, test_y = remain_y[:split_val_id], remain_y[split_val_id:]\n",
        "\n",
        "print('Feature Shapes:')\n",
        "print('Train set: {}'.format(train_x.shape))\n",
        "print('Validation set: {}'.format(val_x.shape))\n",
        "print('Test set: {}'.format(test_x.shape))"
      ],
      "metadata": {
        "colab": {
          "base_uri": "https://localhost:8080/"
        },
        "id": "zPiPiG8tjxSb",
        "outputId": "275d245e-7cd9-43a8-f6d9-1087c3bbd698"
      },
      "execution_count": 23,
      "outputs": [
        {
          "output_type": "stream",
          "name": "stdout",
          "text": [
            "Feature Shapes:\n",
            "Train set: (35000, 256)\n",
            "Validation set: (7500, 256)\n",
            "Test set: (7500, 256)\n"
          ]
        }
      ]
    },
    {
      "cell_type": "code",
      "source": [
        "import torch\n",
        "from torch import nn\n",
        "from torch.optim import Adam\n",
        "from torch.utils.data import TensorDataset, DataLoader\n",
        "from tqdm import tqdm"
      ],
      "metadata": {
        "id": "NTi1SDd0j2fe"
      },
      "execution_count": 24,
      "outputs": []
    },
    {
      "cell_type": "markdown",
      "source": [
        "### 4.2 Loading the dataset"
      ],
      "metadata": {
        "id": "ucj4IOxr0jhQ"
      }
    },
    {
      "cell_type": "code",
      "source": [
        "batch_size = 128\n",
        "\n",
        "trainset = TensorDataset(torch.from_numpy(train_x), torch.from_numpy(train_y))\n",
        "validset = TensorDataset(torch.from_numpy(val_x), torch.from_numpy(val_y))\n",
        "testset = TensorDataset(torch.from_numpy(test_x), torch.from_numpy(test_y))\n",
        "\n",
        "trainloader = DataLoader(trainset, shuffle=True, batch_size=batch_size)\n",
        "valloader = DataLoader(validset, shuffle=True, batch_size=batch_size)\n",
        "testloader = DataLoader(testset, shuffle=True, batch_size=batch_size)"
      ],
      "metadata": {
        "id": "3y_YkQr1j5Rg"
      },
      "execution_count": 25,
      "outputs": []
    },
    {
      "cell_type": "code",
      "source": [
        "dataiter = iter(trainloader)\n",
        "x, y = next(dataiter)\n",
        "\n",
        "print('Sample batch size: ', x.size())\n",
        "print('Sample batch input: \\n', x)\n",
        "print()\n",
        "print('Sample label size: ', y.size())\n",
        "print('Sample label input: \\n', y)"
      ],
      "metadata": {
        "colab": {
          "base_uri": "https://localhost:8080/"
        },
        "id": "_klaOiWTj8wP",
        "outputId": "52d52cda-4848-4e11-9fdd-d7fd2a9d692e"
      },
      "execution_count": 27,
      "outputs": [
        {
          "output_type": "stream",
          "name": "stdout",
          "text": [
            "Sample batch size:  torch.Size([128, 256])\n",
            "Sample batch input: \n",
            " tensor([[ 9642,     3,    44,  ...,     0,     0,     0],\n",
            "        [ 5113,  1365,   766,  ...,     0,     0,     0],\n",
            "        [24938,   905,    32,  ...,     0,     0,     0],\n",
            "        ...,\n",
            "        [ 1846,     2,   482,  ...,     0,     0,     0],\n",
            "        [    3,   319,   231,  ...,     0,     0,     0],\n",
            "        [68391,   363,   774,  ...,     0,     0,     0]])\n",
            "\n",
            "Sample label size:  torch.Size([128])\n",
            "Sample label input: \n",
            " tensor([0, 0, 0, 0, 1, 0, 0, 0, 1, 1, 0, 1, 0, 0, 1, 0, 0, 0, 1, 0, 1, 0, 0, 1,\n",
            "        0, 0, 1, 0, 0, 1, 1, 0, 0, 0, 1, 1, 1, 1, 0, 1, 0, 0, 1, 1, 1, 0, 0, 0,\n",
            "        0, 1, 0, 0, 1, 1, 0, 0, 0, 0, 1, 0, 1, 0, 0, 1, 1, 0, 0, 0, 0, 0, 0, 1,\n",
            "        0, 1, 0, 0, 0, 0, 0, 1, 0, 0, 1, 0, 1, 0, 1, 0, 0, 0, 0, 1, 1, 0, 1, 1,\n",
            "        1, 1, 0, 1, 0, 1, 0, 1, 0, 1, 0, 1, 1, 0, 1, 0, 1, 1, 0, 0, 1, 1, 1, 1,\n",
            "        1, 1, 0, 0, 1, 1, 1, 1])\n"
          ]
        }
      ]
    },
    {
      "cell_type": "markdown",
      "source": [
        "### 4.3 Building the neural network architecture"
      ],
      "metadata": {
        "id": "AIAFu54-0tIH"
      }
    },
    {
      "cell_type": "code",
      "source": [
        "class SentimentModel(nn.Module):\n",
        "    def __init__(self, vocab_size, output_size, hidden_size=128, embedding_size=400, n_layers=2, dropout=0.2):\n",
        "        super(SentimentModel, self).__init__()\n",
        "        self.embedding = nn.Embedding(vocab_size, embedding_size)\n",
        "        self.lstm = nn.LSTM(embedding_size, hidden_size, n_layers, dropout=dropout, batch_first=True)\n",
        "        self.dropout = nn.Dropout(0.3)\n",
        "        self.fc = nn.Linear(hidden_size, output_size)\n",
        "        self.sigmoid = nn.Sigmoid()\n",
        "\n",
        "    def forward(self, x):\n",
        "        x = x.long()\n",
        "        x = self.embedding(x)\n",
        "        o, _ =  self.lstm(x)\n",
        "        o = o[:, -1, :]\n",
        "        o = self.dropout(o)\n",
        "        o = self.fc(o)\n",
        "        o = self.sigmoid(o)\n",
        "        return o"
      ],
      "metadata": {
        "id": "cxbcE-28j-hY"
      },
      "execution_count": 28,
      "outputs": []
    },
    {
      "cell_type": "code",
      "source": [
        "device = torch.device('cuda' if torch.cuda.is_available() else 'cpu')\n",
        "print(device)"
      ],
      "metadata": {
        "colab": {
          "base_uri": "https://localhost:8080/"
        },
        "id": "gvG8eLgjknfq",
        "outputId": "1d2e267d-f1f1-440f-cab0-f3b9d8241502"
      },
      "execution_count": 29,
      "outputs": [
        {
          "output_type": "stream",
          "name": "stdout",
          "text": [
            "cuda\n"
          ]
        }
      ]
    },
    {
      "cell_type": "markdown",
      "source": [
        "### 4.4 Defining the parameters"
      ],
      "metadata": {
        "id": "X2rFLxFA1BAw"
      }
    },
    {
      "cell_type": "code",
      "source": [
        "vocab_size = len(word2int)\n",
        "output_size = 1\n",
        "embedding_size = 256\n",
        "hidden_size = 512\n",
        "n_layers = 2\n",
        "dropout=0.25\n",
        "model = SentimentModel(vocab_size, output_size, hidden_size, embedding_size, n_layers, dropout)"
      ],
      "metadata": {
        "id": "wfbWX2TAlErz"
      },
      "execution_count": 30,
      "outputs": []
    },
    {
      "cell_type": "code",
      "source": [
        "lr = 0.001\n",
        "criterion = nn.BCELoss() \n",
        "optim = Adam(model.parameters(), lr=lr)\n",
        "grad_clip = 5\n",
        "epochs = 8\n",
        "print_every = 1\n",
        "history = {'train_loss': [], 'train_acc': [], 'val_loss': [], 'val_acc': [], 'epochs': epochs}\n",
        "es_limit = 5"
      ],
      "metadata": {
        "id": "vdzGq9cZlHtG"
      },
      "execution_count": 31,
      "outputs": []
    },
    {
      "cell_type": "markdown",
      "source": [
        "### 4.5 Training & Validation"
      ],
      "metadata": {
        "id": "jI8KilX11GA_"
      }
    },
    {
      "cell_type": "code",
      "source": [
        "model = model.to(device)\n",
        "epochloop = tqdm(range(epochs), position=0, desc='Training', leave=True)\n",
        "es_trigger = 0\n",
        "val_loss_min = torch.inf\n",
        "\n",
        "for e in epochloop:\n",
        "    model.train()\n",
        "    train_loss = 0\n",
        "    train_acc = 0\n",
        "\n",
        "    for id, (feature, target) in enumerate(trainloader):\n",
        "        epochloop.set_postfix_str(f'Training batch {id}/{len(trainloader)}')\n",
        "        feature, target = feature.to(device), target.to(device)\n",
        "        optim.zero_grad()\n",
        "        out = model(feature)\n",
        "        predicted = torch.tensor([1 if i == True else 0 for i in out > 0.5], device=device)\n",
        "        equals = predicted == target\n",
        "        acc = torch.mean(equals.type(torch.FloatTensor))\n",
        "        train_acc += acc.item()\n",
        "        loss = criterion(out.squeeze(), target.float())\n",
        "        train_loss += loss.item()\n",
        "        loss.backward()\n",
        "        nn.utils.clip_grad_norm_(model.parameters(), grad_clip)\n",
        "        optim.step()\n",
        "        del feature, target, predicted\n",
        "\n",
        "    history['train_loss'].append(train_loss / len(trainloader))\n",
        "    history['train_acc'].append(train_acc / len(trainloader))\n",
        "    \n",
        "    model.eval()\n",
        "    val_loss = 0\n",
        "    val_acc = 0\n",
        "    with torch.no_grad():\n",
        "        for id, (feature, target) in enumerate(valloader):\n",
        "            # add epoch meta info\n",
        "            epochloop.set_postfix_str(f'Validation batch {id}/{len(valloader)}')\n",
        "            feature, target = feature.to(device), target.to(device)\n",
        "            out = model(feature)\n",
        "            predicted = torch.tensor([1 if i == True else 0 for i in out > 0.5], device=device)\n",
        "            equals = predicted == target\n",
        "            acc = torch.mean(equals.type(torch.FloatTensor))\n",
        "            val_acc += acc.item()\n",
        "            loss = criterion(out.squeeze(), target.float())\n",
        "            val_loss += loss.item()\n",
        "            del feature, target, predicted\n",
        "\n",
        "        history['val_loss'].append(val_loss / len(valloader))\n",
        "        history['val_acc'].append(val_acc / len(valloader))\n",
        "\n",
        "    model.train()\n",
        "\n",
        "    epochloop.set_postfix_str(f'Val Loss: {val_loss / len(valloader):.3f} | Val Acc: {val_acc / len(valloader):.3f}')\n",
        "\n",
        "    if (e+1) % print_every == 0:\n",
        "        epochloop.write(f'Epoch {e+1}/{epochs} | Train Loss: {train_loss / len(trainloader):.3f} Train Acc: {train_acc / len(trainloader):.3f} | Val Loss: {val_loss / len(valloader):.3f} Val Acc: {val_acc / len(valloader):.3f}')\n",
        "        epochloop.update()\n",
        "\n",
        "    if val_loss / len(valloader) <= val_loss_min:\n",
        "        torch.save(model.state_dict(), './sentiment_lstm.pt')\n",
        "        val_loss_min = val_loss / len(valloader)\n",
        "        es_trigger = 0\n",
        "    else:\n",
        "        epochloop.write(f'[WARNING] Validation loss did not improved ({val_loss_min:.3f} --> {val_loss / len(valloader):.3f})')\n",
        "        es_trigger += 1\n",
        "\n",
        "    if es_trigger >= es_limit:\n",
        "        epochloop.write(f'Early stopped at Epoch-{e+1}')\n",
        "        history['epochs'] = e+1\n",
        "        break"
      ],
      "metadata": {
        "colab": {
          "base_uri": "https://localhost:8080/"
        },
        "id": "AlYMbr04lPW2",
        "outputId": "a0c6a28c-0087-4d4e-d42f-bc2e2ef2b527"
      },
      "execution_count": 32,
      "outputs": [
        {
          "output_type": "stream",
          "name": "stderr",
          "text": [
            "Training:  12%|█▎        | 1/8 [01:08<08:01, 68.74s/it, Val Loss: 0.695 | Val Acc: 0.503]"
          ]
        },
        {
          "output_type": "stream",
          "name": "stdout",
          "text": [
            "Epoch 1/8 | Train Loss: 0.697 Train Acc: 0.503 | Val Loss: 0.695 Val Acc: 0.503\n"
          ]
        },
        {
          "output_type": "stream",
          "name": "stderr",
          "text": [
            "Training:  38%|███▊      | 3/8 [02:19<03:58, 47.77s/it, Val Loss: 0.693 | Val Acc: 0.500]"
          ]
        },
        {
          "output_type": "stream",
          "name": "stdout",
          "text": [
            "Epoch 2/8 | Train Loss: 0.695 Train Acc: 0.503 | Val Loss: 0.693 Val Acc: 0.500\n"
          ]
        },
        {
          "output_type": "stream",
          "name": "stderr",
          "text": [
            "Training:  50%|█████     | 4/8 [03:30<03:48, 57.00s/it, Val Loss: 0.693 | Val Acc: 0.507]"
          ]
        },
        {
          "output_type": "stream",
          "name": "stdout",
          "text": [
            "Epoch 3/8 | Train Loss: 0.695 Train Acc: 0.497 | Val Loss: 0.693 Val Acc: 0.507\n"
          ]
        },
        {
          "output_type": "stream",
          "name": "stderr",
          "text": [
            "Training:  75%|███████▌  | 6/8 [04:41<01:36, 48.17s/it, Training batch 0/274]            "
          ]
        },
        {
          "output_type": "stream",
          "name": "stdout",
          "text": [
            "Epoch 4/8 | Train Loss: 0.690 Train Acc: 0.513 | Val Loss: 0.701 Val Acc: 0.562\n",
            "[WARNING] Validation loss did not improved (0.693 --> 0.701)\n"
          ]
        },
        {
          "output_type": "stream",
          "name": "stderr",
          "text": [
            "Training:  88%|████████▊ | 7/8 [05:52<00:55, 55.54s/it, Val Loss: 0.554 | Val Acc: 0.691]"
          ]
        },
        {
          "output_type": "stream",
          "name": "stdout",
          "text": [
            "Epoch 5/8 | Train Loss: 0.597 Train Acc: 0.656 | Val Loss: 0.554 Val Acc: 0.691\n"
          ]
        },
        {
          "output_type": "stream",
          "name": "stderr",
          "text": [
            "Training: 100%|██████████| 8/8 [07:03<00:00, 60.57s/it, Val Loss: 0.487 | Val Acc: 0.744]"
          ]
        },
        {
          "output_type": "stream",
          "name": "stdout",
          "text": [
            "Epoch 6/8 | Train Loss: 0.453 Train Acc: 0.765 | Val Loss: 0.487 Val Acc: 0.744\n"
          ]
        },
        {
          "output_type": "stream",
          "name": "stderr",
          "text": [
            "Training: 10it [08:15, 50.78s/it, Training batch 0/274]            "
          ]
        },
        {
          "output_type": "stream",
          "name": "stdout",
          "text": [
            "Epoch 7/8 | Train Loss: 0.401 Train Acc: 0.788 | Val Loss: 0.506 Val Acc: 0.741\n",
            "[WARNING] Validation loss did not improved (0.487 --> 0.506)\n"
          ]
        },
        {
          "output_type": "stream",
          "name": "stderr",
          "text": [
            "Training: 11it [09:26, 56.92s/it, Val Loss: 0.373 | Val Acc: 0.858]"
          ]
        },
        {
          "output_type": "stream",
          "name": "stdout",
          "text": [
            "Epoch 8/8 | Train Loss: 0.304 Train Acc: 0.881 | Val Loss: 0.373 Val Acc: 0.858\n"
          ]
        },
        {
          "output_type": "stream",
          "name": "stderr",
          "text": [
            "\rTraining: 100%|██████████| 8/8 [09:26<00:00, 70.82s/it, Val Loss: 0.373 | Val Acc: 0.858]\n"
          ]
        }
      ]
    },
    {
      "cell_type": "code",
      "source": [
        "plt.figure(figsize=(6, 8))\n",
        "plt.plot(range(history['epochs']), history['train_loss'], label='Train Loss')\n",
        "plt.plot(range(history['epochs']), history['val_loss'], label='Val Loss')\n",
        "plt.legend()\n",
        "plt.show()"
      ],
      "metadata": {
        "colab": {
          "base_uri": "https://localhost:8080/",
          "height": 483
        },
        "id": "3SuDWiO0uCuA",
        "outputId": "ca17a145-fae9-4a68-f30e-6d62a7095dc3"
      },
      "execution_count": 33,
      "outputs": [
        {
          "output_type": "display_data",
          "data": {
            "text/plain": [
              "<Figure size 432x576 with 1 Axes>"
            ],
            "image/png": "[encoded data removed]"
          },
          "metadata": {
            "needs_background": "light"
          }
        }
      ]
    },
    {
      "cell_type": "code",
      "source": [
        "plt.figure(figsize=(6, 8))\n",
        "plt.plot(range(history['epochs']), history['train_acc'], label='Train Acc')\n",
        "plt.plot(range(history['epochs']), history['val_acc'], label='Val Acc')\n",
        "plt.legend()\n",
        "plt.show()"
      ],
      "metadata": {
        "colab": {
          "base_uri": "https://localhost:8080/",
          "height": 486
        },
        "id": "Hpdl7zoDuGwg",
        "outputId": "eeb1a1af-8499-4c1c-e46f-fd56982a4626"
      },
      "execution_count": 34,
      "outputs": [
        {
          "output_type": "display_data",
          "data": {
            "text/plain": [
              "<Figure size 432x576 with 1 Axes>"
            ],
            "image/png": "[encoded data removed]"
          },
          "metadata": {
            "needs_background": "light"
          }
        }
      ]
    },
    {
      "cell_type": "markdown",
      "source": [
        "### 4.6 Testing the model"
      ],
      "metadata": {
        "id": "0gBaWp0p1Nlf"
      }
    },
    {
      "cell_type": "code",
      "source": [
        "model.eval()\n",
        "test_loss = 0\n",
        "test_acc = 0\n",
        "all_target = []\n",
        "all_predicted = []\n",
        "\n",
        "testloop = tqdm(testloader, leave=True, desc='Inference')\n",
        "with torch.no_grad():\n",
        "    for feature, target in testloop:\n",
        "        feature, target = feature.to(device), target.to(device)\n",
        "\n",
        "        out = model(feature)\n",
        "        \n",
        "        predicted = torch.tensor([1 if i == True else 0 for i in out > 0.5], device=device)\n",
        "        equals = predicted == target\n",
        "        acc = torch.mean(equals.type(torch.FloatTensor))\n",
        "        test_acc += acc.item()\n",
        "\n",
        "        loss = criterion(out.squeeze(), target.float())\n",
        "        test_loss += loss.item()\n",
        "\n",
        "        all_target.extend(target.cpu().numpy())\n",
        "        all_predicted.extend(predicted.cpu().numpy())\n",
        "\n",
        "    print(f'Accuracy: {test_acc/len(testloader):.4f}, Loss: {test_loss/len(testloader):.4f}')"
      ],
      "metadata": {
        "colab": {
          "base_uri": "https://localhost:8080/"
        },
        "id": "_ysGhe2quMfJ",
        "outputId": "416c9fb6-3aaf-4e84-9e64-6ab2b8407ce4"
      },
      "execution_count": 35,
      "outputs": [
        {
          "output_type": "stream",
          "name": "stderr",
          "text": [
            "Inference: 100%|██████████| 59/59 [00:04<00:00, 12.26it/s]"
          ]
        },
        {
          "output_type": "stream",
          "name": "stdout",
          "text": [
            "Accuracy: 0.8541, Loss: 0.3770\n"
          ]
        },
        {
          "output_type": "stream",
          "name": "stderr",
          "text": [
            "\n"
          ]
        }
      ]
    },
    {
      "cell_type": "markdown",
      "source": [
        "## Conclusion\n",
        "In conclusion, our sentiment analysis project on IMDb reviews has achieved a high accuracy score of 85.41%, demonstrating the effectiveness of NLP techniques and neural networks in classifying sentiments. The project's outcome provides valuable insights into the sentiment of IMDb users towards different movies and TV shows. With the continuous growth of data and advances in NLP technology, sentiment analysis will become increasingly vital in understanding customer opinions and preferences."
      ],
      "metadata": {
        "id": "c30x0iUV1hdf"
      }
    },
    {
      "cell_type": "code",
      "source": [],
      "metadata": {
        "id": "46FpQN722m0C"
      },
      "execution_count": null,
      "outputs": []
    }
  ]
}